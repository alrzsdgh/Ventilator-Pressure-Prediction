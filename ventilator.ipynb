{
 "cells": [
  {
   "cell_type": "code",
   "execution_count": 1,
   "id": "6c856afb",
   "metadata": {
    "_cell_guid": "b1076dfc-b9ad-4769-8c92-a6c4dae69d19",
    "_uuid": "8f2839f25d086af736a60e9eeb907d3b93b6e0e5",
    "execution": {
     "iopub.execute_input": "2022-10-17T12:14:57.324137Z",
     "iopub.status.busy": "2022-10-17T12:14:57.322675Z",
     "iopub.status.idle": "2022-10-17T12:15:02.760531Z",
     "shell.execute_reply": "2022-10-17T12:15:02.758533Z",
     "shell.execute_reply.started": "2022-01-04T07:37:54.048534Z"
    },
    "papermill": {
     "duration": 5.461749,
     "end_time": "2022-10-17T12:15:02.760908",
     "exception": false,
     "start_time": "2022-10-17T12:14:57.299159",
     "status": "completed"
    },
    "tags": []
   },
   "outputs": [],
   "source": [
    "import os\n",
    "import pandas as pd\n",
    "import numpy as np\n",
    "import matplotlib.pyplot as plt\n",
    "from tqdm import tqdm\n",
    "from tensorflow.keras.preprocessing.sequence import pad_sequences\n",
    "import tensorflow as tf\n",
    "from tensorflow import keras\n",
    "from sklearn.preprocessing import OneHotEncoder\n",
    "from tensorflow.keras import Model\n",
    "from tensorflow.keras.layers import (Conv1D , BatchNormalization, MaxPool1D,Flatten,\n",
    "                                    Activation , Add, Input, concatenate, Dense,LSTM,\n",
    "                                     Bidirectional , TimeDistributed)\n",
    "from tensorflow.python.keras.utils.vis_utils import plot_model"
   ]
  },
  {
   "cell_type": "code",
   "execution_count": 2,
   "id": "5d9cd285",
   "metadata": {
    "execution": {
     "iopub.execute_input": "2022-10-17T12:15:02.804787Z",
     "iopub.status.busy": "2022-10-17T12:15:02.803931Z",
     "iopub.status.idle": "2022-10-17T12:15:02.807060Z",
     "shell.execute_reply": "2022-10-17T12:15:02.807435Z",
     "shell.execute_reply.started": "2022-01-04T07:38:01.486322Z"
    },
    "papermill": {
     "duration": 0.027575,
     "end_time": "2022-10-17T12:15:02.807615",
     "exception": false,
     "start_time": "2022-10-17T12:15:02.780040",
     "status": "completed"
    },
    "tags": []
   },
   "outputs": [],
   "source": [
    "# list of breath ids\n",
    "def breath_ids(df):\n",
    "    b = set()\n",
    "    \n",
    "    l = []\n",
    "    b_id = df['breath_id']\n",
    "    for i in b_id:\n",
    "        b.add(i)\n",
    "    for j in b:\n",
    "        l.append(j)\n",
    "    return l\n",
    "\n",
    "# before u_out get opened\n",
    "def prepared_data(df):\n",
    "    a = df.groupby('breath_id')\n",
    "    pressure = []\n",
    "    input_air = []\n",
    "    R = []\n",
    "    C = []\n",
    "    print('preparing the dataset ... ')\n",
    "    for i in tqdm(breath_ids(df)):\n",
    "        b = a.get_group(i)\n",
    "        r = b['R'].values\n",
    "        c = b['C'].values\n",
    "        p = b['pressure'].values\n",
    "        u_in = b['u_in'].values\n",
    "        \n",
    "        pressure.append(p)\n",
    "        input_air.append(u_in)\n",
    "        R.append(r[0])\n",
    "        C.append(c[0])\n",
    "    \n",
    "    RR = np.expand_dims(R , axis = -1)\n",
    "    CC = np.expand_dims(C , axis = -1)\n",
    "    \n",
    "    r_encoder = OneHotEncoder()\n",
    "    r_1hot = r_encoder.fit_transform(RR)\n",
    "    \n",
    "    c_encoder = OneHotEncoder()\n",
    "    c_1hot = c_encoder.fit_transform(CC)\n",
    "    \n",
    "    return (pad_sequences(input_air , dtype = 'float32'),\n",
    "            r_1hot.toarray(),\n",
    "            c_1hot.toarray(),\n",
    "            pad_sequences(pressure , dtype = 'float32'))"
   ]
  },
  {
   "cell_type": "code",
   "execution_count": 3,
   "id": "e6447a86",
   "metadata": {
    "execution": {
     "iopub.execute_input": "2022-10-17T12:15:02.842200Z",
     "iopub.status.busy": "2022-10-17T12:15:02.840544Z",
     "iopub.status.idle": "2022-10-17T12:15:10.394812Z",
     "shell.execute_reply": "2022-10-17T12:15:10.394320Z",
     "shell.execute_reply.started": "2022-01-04T07:38:03.169008Z"
    },
    "papermill": {
     "duration": 7.572126,
     "end_time": "2022-10-17T12:15:10.394943",
     "exception": false,
     "start_time": "2022-10-17T12:15:02.822817",
     "status": "completed"
    },
    "tags": []
   },
   "outputs": [
    {
     "data": {
      "text/html": [
       "<div>\n",
       "<style scoped>\n",
       "    .dataframe tbody tr th:only-of-type {\n",
       "        vertical-align: middle;\n",
       "    }\n",
       "\n",
       "    .dataframe tbody tr th {\n",
       "        vertical-align: top;\n",
       "    }\n",
       "\n",
       "    .dataframe thead th {\n",
       "        text-align: right;\n",
       "    }\n",
       "</style>\n",
       "<table border=\"1\" class=\"dataframe\">\n",
       "  <thead>\n",
       "    <tr style=\"text-align: right;\">\n",
       "      <th></th>\n",
       "      <th>id</th>\n",
       "      <th>breath_id</th>\n",
       "      <th>R</th>\n",
       "      <th>C</th>\n",
       "      <th>time_step</th>\n",
       "      <th>u_in</th>\n",
       "      <th>u_out</th>\n",
       "      <th>pressure</th>\n",
       "    </tr>\n",
       "  </thead>\n",
       "  <tbody>\n",
       "    <tr>\n",
       "      <th>0</th>\n",
       "      <td>1</td>\n",
       "      <td>1</td>\n",
       "      <td>20</td>\n",
       "      <td>50</td>\n",
       "      <td>0.000000</td>\n",
       "      <td>0.083334</td>\n",
       "      <td>0</td>\n",
       "      <td>5.837492</td>\n",
       "    </tr>\n",
       "    <tr>\n",
       "      <th>1</th>\n",
       "      <td>2</td>\n",
       "      <td>1</td>\n",
       "      <td>20</td>\n",
       "      <td>50</td>\n",
       "      <td>0.033652</td>\n",
       "      <td>18.383041</td>\n",
       "      <td>0</td>\n",
       "      <td>5.907794</td>\n",
       "    </tr>\n",
       "    <tr>\n",
       "      <th>2</th>\n",
       "      <td>3</td>\n",
       "      <td>1</td>\n",
       "      <td>20</td>\n",
       "      <td>50</td>\n",
       "      <td>0.067514</td>\n",
       "      <td>22.509278</td>\n",
       "      <td>0</td>\n",
       "      <td>7.876254</td>\n",
       "    </tr>\n",
       "    <tr>\n",
       "      <th>3</th>\n",
       "      <td>4</td>\n",
       "      <td>1</td>\n",
       "      <td>20</td>\n",
       "      <td>50</td>\n",
       "      <td>0.101542</td>\n",
       "      <td>22.808822</td>\n",
       "      <td>0</td>\n",
       "      <td>11.742872</td>\n",
       "    </tr>\n",
       "    <tr>\n",
       "      <th>4</th>\n",
       "      <td>5</td>\n",
       "      <td>1</td>\n",
       "      <td>20</td>\n",
       "      <td>50</td>\n",
       "      <td>0.135756</td>\n",
       "      <td>25.355850</td>\n",
       "      <td>0</td>\n",
       "      <td>12.234987</td>\n",
       "    </tr>\n",
       "    <tr>\n",
       "      <th>...</th>\n",
       "      <td>...</td>\n",
       "      <td>...</td>\n",
       "      <td>...</td>\n",
       "      <td>...</td>\n",
       "      <td>...</td>\n",
       "      <td>...</td>\n",
       "      <td>...</td>\n",
       "      <td>...</td>\n",
       "    </tr>\n",
       "    <tr>\n",
       "      <th>6035995</th>\n",
       "      <td>6035996</td>\n",
       "      <td>125749</td>\n",
       "      <td>50</td>\n",
       "      <td>10</td>\n",
       "      <td>2.504603</td>\n",
       "      <td>1.489714</td>\n",
       "      <td>1</td>\n",
       "      <td>3.869032</td>\n",
       "    </tr>\n",
       "    <tr>\n",
       "      <th>6035996</th>\n",
       "      <td>6035997</td>\n",
       "      <td>125749</td>\n",
       "      <td>50</td>\n",
       "      <td>10</td>\n",
       "      <td>2.537961</td>\n",
       "      <td>1.488497</td>\n",
       "      <td>1</td>\n",
       "      <td>3.869032</td>\n",
       "    </tr>\n",
       "    <tr>\n",
       "      <th>6035997</th>\n",
       "      <td>6035998</td>\n",
       "      <td>125749</td>\n",
       "      <td>50</td>\n",
       "      <td>10</td>\n",
       "      <td>2.571408</td>\n",
       "      <td>1.558978</td>\n",
       "      <td>1</td>\n",
       "      <td>3.798729</td>\n",
       "    </tr>\n",
       "    <tr>\n",
       "      <th>6035998</th>\n",
       "      <td>6035999</td>\n",
       "      <td>125749</td>\n",
       "      <td>50</td>\n",
       "      <td>10</td>\n",
       "      <td>2.604744</td>\n",
       "      <td>1.272663</td>\n",
       "      <td>1</td>\n",
       "      <td>4.079938</td>\n",
       "    </tr>\n",
       "    <tr>\n",
       "      <th>6035999</th>\n",
       "      <td>6036000</td>\n",
       "      <td>125749</td>\n",
       "      <td>50</td>\n",
       "      <td>10</td>\n",
       "      <td>2.638017</td>\n",
       "      <td>1.482739</td>\n",
       "      <td>1</td>\n",
       "      <td>3.869032</td>\n",
       "    </tr>\n",
       "  </tbody>\n",
       "</table>\n",
       "<p>6036000 rows × 8 columns</p>\n",
       "</div>"
      ],
      "text/plain": [
       "              id  breath_id   R   C  time_step       u_in  u_out   pressure\n",
       "0              1          1  20  50   0.000000   0.083334      0   5.837492\n",
       "1              2          1  20  50   0.033652  18.383041      0   5.907794\n",
       "2              3          1  20  50   0.067514  22.509278      0   7.876254\n",
       "3              4          1  20  50   0.101542  22.808822      0  11.742872\n",
       "4              5          1  20  50   0.135756  25.355850      0  12.234987\n",
       "...          ...        ...  ..  ..        ...        ...    ...        ...\n",
       "6035995  6035996     125749  50  10   2.504603   1.489714      1   3.869032\n",
       "6035996  6035997     125749  50  10   2.537961   1.488497      1   3.869032\n",
       "6035997  6035998     125749  50  10   2.571408   1.558978      1   3.798729\n",
       "6035998  6035999     125749  50  10   2.604744   1.272663      1   4.079938\n",
       "6035999  6036000     125749  50  10   2.638017   1.482739      1   3.869032\n",
       "\n",
       "[6036000 rows x 8 columns]"
      ]
     },
     "execution_count": 3,
     "metadata": {},
     "output_type": "execute_result"
    }
   ],
   "source": [
    "train_df = pd.read_csv('../input/ventilator-pressure-prediction/train.csv')\n",
    "train_df"
   ]
  },
  {
   "cell_type": "code",
   "execution_count": 4,
   "id": "dca5445b",
   "metadata": {
    "execution": {
     "iopub.execute_input": "2022-10-17T12:15:10.433834Z",
     "iopub.status.busy": "2022-10-17T12:15:10.432985Z",
     "iopub.status.idle": "2022-10-17T12:15:10.594834Z",
     "shell.execute_reply": "2022-10-17T12:15:10.594391Z",
     "shell.execute_reply.started": "2022-01-04T07:38:13.907371Z"
    },
    "papermill": {
     "duration": 0.184202,
     "end_time": "2022-10-17T12:15:10.594958",
     "exception": false,
     "start_time": "2022-10-17T12:15:10.410756",
     "status": "completed"
    },
    "tags": []
   },
   "outputs": [
    {
     "data": {
      "text/html": [
       "<div>\n",
       "<style scoped>\n",
       "    .dataframe tbody tr th:only-of-type {\n",
       "        vertical-align: middle;\n",
       "    }\n",
       "\n",
       "    .dataframe tbody tr th {\n",
       "        vertical-align: top;\n",
       "    }\n",
       "\n",
       "    .dataframe thead th {\n",
       "        text-align: right;\n",
       "    }\n",
       "</style>\n",
       "<table border=\"1\" class=\"dataframe\">\n",
       "  <thead>\n",
       "    <tr style=\"text-align: right;\">\n",
       "      <th></th>\n",
       "      <th>id</th>\n",
       "      <th>breath_id</th>\n",
       "      <th>R</th>\n",
       "      <th>C</th>\n",
       "      <th>time_step</th>\n",
       "      <th>u_in</th>\n",
       "      <th>u_out</th>\n",
       "      <th>pressure</th>\n",
       "    </tr>\n",
       "  </thead>\n",
       "  <tbody>\n",
       "    <tr>\n",
       "      <th>0</th>\n",
       "      <td>1</td>\n",
       "      <td>1</td>\n",
       "      <td>20</td>\n",
       "      <td>50</td>\n",
       "      <td>0.000000</td>\n",
       "      <td>0.083334</td>\n",
       "      <td>0</td>\n",
       "      <td>5.837492</td>\n",
       "    </tr>\n",
       "    <tr>\n",
       "      <th>1</th>\n",
       "      <td>2</td>\n",
       "      <td>1</td>\n",
       "      <td>20</td>\n",
       "      <td>50</td>\n",
       "      <td>0.033652</td>\n",
       "      <td>18.383041</td>\n",
       "      <td>0</td>\n",
       "      <td>5.907794</td>\n",
       "    </tr>\n",
       "    <tr>\n",
       "      <th>2</th>\n",
       "      <td>3</td>\n",
       "      <td>1</td>\n",
       "      <td>20</td>\n",
       "      <td>50</td>\n",
       "      <td>0.067514</td>\n",
       "      <td>22.509278</td>\n",
       "      <td>0</td>\n",
       "      <td>7.876254</td>\n",
       "    </tr>\n",
       "    <tr>\n",
       "      <th>3</th>\n",
       "      <td>4</td>\n",
       "      <td>1</td>\n",
       "      <td>20</td>\n",
       "      <td>50</td>\n",
       "      <td>0.101542</td>\n",
       "      <td>22.808822</td>\n",
       "      <td>0</td>\n",
       "      <td>11.742872</td>\n",
       "    </tr>\n",
       "    <tr>\n",
       "      <th>4</th>\n",
       "      <td>5</td>\n",
       "      <td>1</td>\n",
       "      <td>20</td>\n",
       "      <td>50</td>\n",
       "      <td>0.135756</td>\n",
       "      <td>25.355850</td>\n",
       "      <td>0</td>\n",
       "      <td>12.234987</td>\n",
       "    </tr>\n",
       "    <tr>\n",
       "      <th>...</th>\n",
       "      <td>...</td>\n",
       "      <td>...</td>\n",
       "      <td>...</td>\n",
       "      <td>...</td>\n",
       "      <td>...</td>\n",
       "      <td>...</td>\n",
       "      <td>...</td>\n",
       "      <td>...</td>\n",
       "    </tr>\n",
       "    <tr>\n",
       "      <th>6035945</th>\n",
       "      <td>6035946</td>\n",
       "      <td>125749</td>\n",
       "      <td>50</td>\n",
       "      <td>10</td>\n",
       "      <td>0.834147</td>\n",
       "      <td>1.869367</td>\n",
       "      <td>0</td>\n",
       "      <td>29.459013</td>\n",
       "    </tr>\n",
       "    <tr>\n",
       "      <th>6035946</th>\n",
       "      <td>6035947</td>\n",
       "      <td>125749</td>\n",
       "      <td>50</td>\n",
       "      <td>10</td>\n",
       "      <td>0.867574</td>\n",
       "      <td>2.154414</td>\n",
       "      <td>0</td>\n",
       "      <td>29.107502</td>\n",
       "    </tr>\n",
       "    <tr>\n",
       "      <th>6035947</th>\n",
       "      <td>6035948</td>\n",
       "      <td>125749</td>\n",
       "      <td>50</td>\n",
       "      <td>10</td>\n",
       "      <td>0.900917</td>\n",
       "      <td>1.304434</td>\n",
       "      <td>0</td>\n",
       "      <td>29.880825</td>\n",
       "    </tr>\n",
       "    <tr>\n",
       "      <th>6035948</th>\n",
       "      <td>6035949</td>\n",
       "      <td>125749</td>\n",
       "      <td>50</td>\n",
       "      <td>10</td>\n",
       "      <td>0.934309</td>\n",
       "      <td>1.733830</td>\n",
       "      <td>0</td>\n",
       "      <td>29.388710</td>\n",
       "    </tr>\n",
       "    <tr>\n",
       "      <th>6035949</th>\n",
       "      <td>6035950</td>\n",
       "      <td>125749</td>\n",
       "      <td>50</td>\n",
       "      <td>10</td>\n",
       "      <td>0.967743</td>\n",
       "      <td>0.958726</td>\n",
       "      <td>0</td>\n",
       "      <td>30.091732</td>\n",
       "    </tr>\n",
       "  </tbody>\n",
       "</table>\n",
       "<p>2290968 rows × 8 columns</p>\n",
       "</div>"
      ],
      "text/plain": [
       "              id  breath_id   R   C  time_step       u_in  u_out   pressure\n",
       "0              1          1  20  50   0.000000   0.083334      0   5.837492\n",
       "1              2          1  20  50   0.033652  18.383041      0   5.907794\n",
       "2              3          1  20  50   0.067514  22.509278      0   7.876254\n",
       "3              4          1  20  50   0.101542  22.808822      0  11.742872\n",
       "4              5          1  20  50   0.135756  25.355850      0  12.234987\n",
       "...          ...        ...  ..  ..        ...        ...    ...        ...\n",
       "6035945  6035946     125749  50  10   0.834147   1.869367      0  29.459013\n",
       "6035946  6035947     125749  50  10   0.867574   2.154414      0  29.107502\n",
       "6035947  6035948     125749  50  10   0.900917   1.304434      0  29.880825\n",
       "6035948  6035949     125749  50  10   0.934309   1.733830      0  29.388710\n",
       "6035949  6035950     125749  50  10   0.967743   0.958726      0  30.091732\n",
       "\n",
       "[2290968 rows x 8 columns]"
      ]
     },
     "execution_count": 4,
     "metadata": {},
     "output_type": "execute_result"
    }
   ],
   "source": [
    "ins_df = train_df[train_df.u_out == 0]\n",
    "ins_df"
   ]
  },
  {
   "cell_type": "code",
   "execution_count": 5,
   "id": "efc644c3",
   "metadata": {
    "execution": {
     "iopub.execute_input": "2022-10-17T12:15:10.630434Z",
     "iopub.status.busy": "2022-10-17T12:15:10.629767Z",
     "iopub.status.idle": "2022-10-17T12:15:38.302040Z",
     "shell.execute_reply": "2022-10-17T12:15:38.301071Z",
     "shell.execute_reply.started": "2022-01-04T07:38:15.617250Z"
    },
    "papermill": {
     "duration": 27.691633,
     "end_time": "2022-10-17T12:15:38.302190",
     "exception": false,
     "start_time": "2022-10-17T12:15:10.610557",
     "status": "completed"
    },
    "tags": []
   },
   "outputs": [
    {
     "name": "stdout",
     "output_type": "stream",
     "text": [
      "preparing the dataset ... \n"
     ]
    },
    {
     "name": "stderr",
     "output_type": "stream",
     "text": [
      "100%|██████████| 75450/75450 [00:26<00:00, 2839.85it/s]\n"
     ]
    }
   ],
   "source": [
    "u , r , c , p = prepared_data(ins_df)"
   ]
  },
  {
   "cell_type": "code",
   "execution_count": 6,
   "id": "17ec6711",
   "metadata": {
    "execution": {
     "iopub.execute_input": "2022-10-17T12:15:38.456448Z",
     "iopub.status.busy": "2022-10-17T12:15:38.455813Z",
     "iopub.status.idle": "2022-10-17T12:15:38.458769Z",
     "shell.execute_reply": "2022-10-17T12:15:38.459192Z",
     "shell.execute_reply.started": "2022-01-04T07:38:55.501970Z"
    },
    "papermill": {
     "duration": 0.081635,
     "end_time": "2022-10-17T12:15:38.459341",
     "exception": false,
     "start_time": "2022-10-17T12:15:38.377706",
     "status": "completed"
    },
    "tags": []
   },
   "outputs": [
    {
     "name": "stdout",
     "output_type": "stream",
     "text": [
      "shape p: (75450, 32, 1)\n",
      "shape u: (75450, 32, 1)\n"
     ]
    }
   ],
   "source": [
    "uu = np.expand_dims(u , axis = -1)\n",
    "pp = np.expand_dims(p , axis = -1)\n",
    "\n",
    "print('shape p:',np.shape(pp))\n",
    "print('shape u:',np.shape(uu))"
   ]
  },
  {
   "cell_type": "code",
   "execution_count": 7,
   "id": "eeba7bb3",
   "metadata": {
    "execution": {
     "iopub.execute_input": "2022-10-17T12:15:38.617380Z",
     "iopub.status.busy": "2022-10-17T12:15:38.616547Z",
     "iopub.status.idle": "2022-10-17T12:15:38.624133Z",
     "shell.execute_reply": "2022-10-17T12:15:38.623722Z",
     "shell.execute_reply.started": "2022-01-04T07:38:56.718804Z"
    },
    "papermill": {
     "duration": 0.090411,
     "end_time": "2022-10-17T12:15:38.624253",
     "exception": false,
     "start_time": "2022-10-17T12:15:38.533842",
     "status": "completed"
    },
    "tags": []
   },
   "outputs": [
    {
     "name": "stdout",
     "output_type": "stream",
     "text": [
      "shape of u_train is: (52815, 32, 1)\n",
      "____\n",
      "shape of u_valid is: (7545, 32, 1)\n",
      "____\n",
      "shape of u_test is: (15090, 32, 1)\n",
      "____\n",
      "shape of p_train is: (52815, 32, 1)\n",
      "____\n",
      "shape of p_valid is: (7545, 32, 1)\n",
      "____\n",
      "shape of p_test is: (15090, 32, 1)\n",
      "____\n",
      "shape of r_train is: (52815, 3)\n",
      "____\n",
      "shape of r_valid is: (7545, 3)\n",
      "____\n",
      "shape of r_test is: (15090, 3)\n",
      "____\n",
      "shape of c_train is: (52815, 3)\n",
      "____\n",
      "shape of c_valid is: (7545, 3)\n",
      "____\n",
      "shape of c_test is: (15090, 3)\n",
      "____\n"
     ]
    }
   ],
   "source": [
    "n_train = 52815 #(80%)\n",
    "n_valid = 7545 #(10%)\n",
    "n_test = 15090 #(20%)\n",
    "\n",
    "u_train = uu[:n_train]\n",
    "u_valid = uu[n_train : n_train + n_valid]\n",
    "u_test = uu[n_train + n_valid:n_train + n_valid + n_test]\n",
    "\n",
    "p_train = pp[:n_train]\n",
    "p_valid = pp[n_train : n_train + n_valid]\n",
    "p_test = pp[n_train + n_valid:n_train + n_valid + n_test]\n",
    "\n",
    "r_train = r[:n_train]\n",
    "r_valid = r[n_train : n_train + n_valid]\n",
    "r_test = r[n_train + n_valid:n_train + n_valid + n_test]\n",
    "\n",
    "c_train = c[:n_train]\n",
    "c_valid = c[n_train : n_train + n_valid]\n",
    "c_test = c[n_train + n_valid:n_train + n_valid + n_test]\n",
    "\n",
    "data = [u_train, u_valid, u_test, p_train, p_valid, p_test, r_train, r_valid, r_test,\n",
    "       c_train, c_valid, c_test]\n",
    "data_name = ['u_train', 'u_valid', 'u_test', 'p_train', 'p_valid', 'p_test', 'r_train', 'r_valid',\n",
    "             'r_test', 'c_train', 'c_valid', 'c_test']\n",
    "for k , v in enumerate(data):\n",
    "    print(f'shape of',data_name[k]  ,f'is: {np.shape(v)}')\n",
    "    print('____')"
   ]
  },
  {
   "cell_type": "code",
   "execution_count": 8,
   "id": "df507f58",
   "metadata": {
    "execution": {
     "iopub.execute_input": "2022-10-17T12:15:38.781331Z",
     "iopub.status.busy": "2022-10-17T12:15:38.780514Z",
     "iopub.status.idle": "2022-10-17T12:15:38.782596Z",
     "shell.execute_reply": "2022-10-17T12:15:38.782997Z",
     "shell.execute_reply.started": "2022-01-04T07:39:00.870742Z"
    },
    "papermill": {
     "duration": 0.083312,
     "end_time": "2022-10-17T12:15:38.783143",
     "exception": false,
     "start_time": "2022-10-17T12:15:38.699831",
     "status": "completed"
    },
    "tags": []
   },
   "outputs": [],
   "source": [
    "# LSTM Wide And Deep model\n",
    "\n",
    "from tensorflow.keras.layers import LSTM , Bidirectional , Dense , TimeDistributed\n",
    "\n",
    "def biLSTM_model():\n",
    "    model = keras.models.Sequential([\n",
    "    Bidirectional(LSTM(300,return_sequences=True,kernel_initializer='he_normal'),input_shape=(32 , 1)),\n",
    "    Bidirectional(LSTM(200 ,return_sequences=True,kernel_initializer = 'he_normal')),\n",
    "    Bidirectional(LSTM(100 ,return_sequences=True,kernel_initializer = 'he_normal')),\n",
    "    tf.keras.layers.Dropout(0.2),\n",
    "    TimeDistributed(Dense(32,activation = 'selu',kernel_initializer = 'he_normal'))    \n",
    "])\n",
    "    \n",
    "    return model\n",
    "\n",
    "def lstm_wide_and_deep():\n",
    "    input_r = Input(shape=(3) , name='r_input')\n",
    "    input_c = Input(shape=(3) , name='c_input')\n",
    "    input_deep = Input(shape=(32,1) , name='deep_input')\n",
    "    \n",
    "    output_deep = biLSTM_model()(input_deep)\n",
    "    flat = Flatten()(output_deep)\n",
    "    concat = concatenate([input_r , input_c , flat])\n",
    "    \n",
    "    dens = Dense(32)(concat)\n",
    "    \n",
    "    model = Model(inputs=[input_r , input_c , input_deep] , outputs = dens)\n",
    "\n",
    "    return model"
   ]
  },
  {
   "cell_type": "code",
   "execution_count": 9,
   "id": "95c3e88a",
   "metadata": {
    "execution": {
     "iopub.execute_input": "2022-10-17T12:15:38.932692Z",
     "iopub.status.busy": "2022-10-17T12:15:38.931273Z",
     "iopub.status.idle": "2022-10-17T12:15:43.888848Z",
     "shell.execute_reply": "2022-10-17T12:15:43.887901Z",
     "shell.execute_reply.started": "2022-01-04T07:39:12.102221Z"
    },
    "papermill": {
     "duration": 5.032439,
     "end_time": "2022-10-17T12:15:43.888995",
     "exception": false,
     "start_time": "2022-10-17T12:15:38.856556",
     "status": "completed"
    },
    "tags": []
   },
   "outputs": [
    {
     "name": "stderr",
     "output_type": "stream",
     "text": [
      "2022-10-17 12:15:39.019549: I tensorflow/stream_executor/cuda/cuda_gpu_executor.cc:937] successful NUMA node read from SysFS had negative value (-1), but there must be at least one NUMA node, so returning NUMA node zero\n",
      "2022-10-17 12:15:39.109733: I tensorflow/stream_executor/cuda/cuda_gpu_executor.cc:937] successful NUMA node read from SysFS had negative value (-1), but there must be at least one NUMA node, so returning NUMA node zero\n",
      "2022-10-17 12:15:39.110659: I tensorflow/stream_executor/cuda/cuda_gpu_executor.cc:937] successful NUMA node read from SysFS had negative value (-1), but there must be at least one NUMA node, so returning NUMA node zero\n",
      "2022-10-17 12:15:39.111753: I tensorflow/core/platform/cpu_feature_guard.cc:142] This TensorFlow binary is optimized with oneAPI Deep Neural Network Library (oneDNN) to use the following CPU instructions in performance-critical operations:  AVX2 AVX512F FMA\n",
      "To enable them in other operations, rebuild TensorFlow with the appropriate compiler flags.\n",
      "2022-10-17 12:15:39.112977: I tensorflow/stream_executor/cuda/cuda_gpu_executor.cc:937] successful NUMA node read from SysFS had negative value (-1), but there must be at least one NUMA node, so returning NUMA node zero\n",
      "2022-10-17 12:15:39.113803: I tensorflow/stream_executor/cuda/cuda_gpu_executor.cc:937] successful NUMA node read from SysFS had negative value (-1), but there must be at least one NUMA node, so returning NUMA node zero\n",
      "2022-10-17 12:15:39.114565: I tensorflow/stream_executor/cuda/cuda_gpu_executor.cc:937] successful NUMA node read from SysFS had negative value (-1), but there must be at least one NUMA node, so returning NUMA node zero\n",
      "2022-10-17 12:15:41.010635: I tensorflow/stream_executor/cuda/cuda_gpu_executor.cc:937] successful NUMA node read from SysFS had negative value (-1), but there must be at least one NUMA node, so returning NUMA node zero\n",
      "2022-10-17 12:15:41.011531: I tensorflow/stream_executor/cuda/cuda_gpu_executor.cc:937] successful NUMA node read from SysFS had negative value (-1), but there must be at least one NUMA node, so returning NUMA node zero\n",
      "2022-10-17 12:15:41.012209: I tensorflow/stream_executor/cuda/cuda_gpu_executor.cc:937] successful NUMA node read from SysFS had negative value (-1), but there must be at least one NUMA node, so returning NUMA node zero\n",
      "2022-10-17 12:15:41.012855: I tensorflow/core/common_runtime/gpu/gpu_device.cc:1510] Created device /job:localhost/replica:0/task:0/device:GPU:0 with 15403 MB memory:  -> device: 0, name: Tesla P100-PCIE-16GB, pci bus id: 0000:00:04.0, compute capability: 6.0\n"
     ]
    },
    {
     "name": "stdout",
     "output_type": "stream",
     "text": [
      "Model: \"model\"\n",
      "__________________________________________________________________________________________________\n",
      "Layer (type)                    Output Shape         Param #     Connected to                     \n",
      "==================================================================================================\n",
      "deep_input (InputLayer)         [(None, 32, 1)]      0                                            \n",
      "__________________________________________________________________________________________________\n",
      "sequential (Sequential)         (None, 32, 32)       2413632     deep_input[0][0]                 \n",
      "__________________________________________________________________________________________________\n",
      "r_input (InputLayer)            [(None, 3)]          0                                            \n",
      "__________________________________________________________________________________________________\n",
      "c_input (InputLayer)            [(None, 3)]          0                                            \n",
      "__________________________________________________________________________________________________\n",
      "flatten (Flatten)               (None, 1024)         0           sequential[0][0]                 \n",
      "__________________________________________________________________________________________________\n",
      "concatenate (Concatenate)       (None, 1030)         0           r_input[0][0]                    \n",
      "                                                                 c_input[0][0]                    \n",
      "                                                                 flatten[0][0]                    \n",
      "__________________________________________________________________________________________________\n",
      "dense_1 (Dense)                 (None, 32)           32992       concatenate[0][0]                \n",
      "==================================================================================================\n",
      "Total params: 2,446,624\n",
      "Trainable params: 2,446,624\n",
      "Non-trainable params: 0\n",
      "__________________________________________________________________________________________________\n"
     ]
    }
   ],
   "source": [
    "model = lstm_wide_and_deep()\n",
    "model.summary()"
   ]
  },
  {
   "cell_type": "code",
   "execution_count": 10,
   "id": "31801d4f",
   "metadata": {
    "execution": {
     "iopub.execute_input": "2022-10-17T12:15:44.045940Z",
     "iopub.status.busy": "2022-10-17T12:15:44.044953Z",
     "iopub.status.idle": "2022-10-17T12:15:44.845509Z",
     "shell.execute_reply": "2022-10-17T12:15:44.844340Z",
     "shell.execute_reply.started": "2022-01-03T23:44:35.905814Z"
    },
    "papermill": {
     "duration": 0.879234,
     "end_time": "2022-10-17T12:15:44.845644",
     "exception": false,
     "start_time": "2022-10-17T12:15:43.966410",
     "status": "completed"
    },
    "tags": []
   },
   "outputs": [
    {
     "data": {
      "image/png": "[encoded data removed]",
      "text/plain": [
       "<IPython.core.display.Image object>"
      ]
     },
     "execution_count": 10,
     "metadata": {},
     "output_type": "execute_result"
    }
   ],
   "source": [
    "plot_model(model)"
   ]
  },
  {
   "cell_type": "code",
   "execution_count": 11,
   "id": "784efd4f",
   "metadata": {
    "execution": {
     "iopub.execute_input": "2022-10-17T12:15:45.003746Z",
     "iopub.status.busy": "2022-10-17T12:15:45.002842Z",
     "iopub.status.idle": "2022-10-17T12:15:45.072625Z",
     "shell.execute_reply": "2022-10-17T12:15:45.071991Z",
     "shell.execute_reply.started": "2022-01-04T07:39:22.912491Z"
    },
    "papermill": {
     "duration": 0.149972,
     "end_time": "2022-10-17T12:15:45.072816",
     "exception": false,
     "start_time": "2022-10-17T12:15:44.922844",
     "status": "completed"
    },
    "tags": []
   },
   "outputs": [
    {
     "name": "stderr",
     "output_type": "stream",
     "text": [
      "100%|██████████| 15090/15090 [00:00<00:00, 309410.32it/s]\n"
     ]
    },
    {
     "data": {
      "text/plain": [
       "(15090, 32, 1)"
      ]
     },
     "execution_count": 11,
     "metadata": {},
     "output_type": "execute_result"
    }
   ],
   "source": [
    "# naive model\n",
    "naive_pred = []\n",
    "for i in tqdm(p_test):\n",
    "    pred = np.zeros(np.shape(i))\n",
    "    pred[1:] = i[:31]\n",
    "    naive_pred.append(pred)\n",
    "    \n",
    "naive_pred = np.asarray(naive_pred)\n",
    "np.shape(naive_pred)"
   ]
  },
  {
   "cell_type": "code",
   "execution_count": 12,
   "id": "6b59a231",
   "metadata": {
    "execution": {
     "iopub.execute_input": "2022-10-17T12:15:45.235018Z",
     "iopub.status.busy": "2022-10-17T12:15:45.234419Z",
     "iopub.status.idle": "2022-10-17T12:15:45.244830Z",
     "shell.execute_reply": "2022-10-17T12:15:45.245252Z",
     "shell.execute_reply.started": "2022-01-04T07:39:29.031999Z"
    },
    "papermill": {
     "duration": 0.096007,
     "end_time": "2022-10-17T12:15:45.245390",
     "exception": false,
     "start_time": "2022-10-17T12:15:45.149383",
     "status": "completed"
    },
    "tags": []
   },
   "outputs": [
    {
     "data": {
      "text/plain": [
       "1.4861554"
      ]
     },
     "execution_count": 12,
     "metadata": {},
     "output_type": "execute_result"
    }
   ],
   "source": [
    "np.mean(keras.losses.mean_absolute_error(naive_pred , p_test))"
   ]
  },
  {
   "cell_type": "code",
   "execution_count": 13,
   "id": "7d82ab58",
   "metadata": {
    "execution": {
     "iopub.execute_input": "2022-10-17T12:15:45.437718Z",
     "iopub.status.busy": "2022-10-17T12:15:45.436926Z",
     "iopub.status.idle": "2022-10-17T12:15:45.770844Z",
     "shell.execute_reply": "2022-10-17T12:15:45.771840Z",
     "shell.execute_reply.started": "2022-01-03T23:46:52.263437Z"
    },
    "papermill": {
     "duration": 0.450462,
     "end_time": "2022-10-17T12:15:45.772039",
     "exception": false,
     "start_time": "2022-10-17T12:15:45.321577",
     "status": "completed"
    },
    "tags": []
   },
   "outputs": [
    {
     "name": "stdout",
     "output_type": "stream",
     "text": [
      "loss =  1.502784013748169\n"
     ]
    },
    {
     "data": {
      "image/png": "[encoded data removed]",
      "text/plain": [
       "<Figure size 432x288 with 1 Axes>"
      ]
     },
     "metadata": {
      "needs_background": "light"
     },
     "output_type": "display_data"
    },
    {
     "data": {
      "text/plain": [
       "<Figure size 432x288 with 0 Axes>"
      ]
     },
     "metadata": {},
     "output_type": "display_data"
    }
   ],
   "source": [
    "for i in range(1):\n",
    "    rnd_num = np.random.randint(n_test)\n",
    "    print('loss = ' , np.mean(keras.losses.mean_absolute_error(p_test[rnd_num] , naive_pred[rnd_num])))\n",
    "    plt.title(f'breath sample number {rnd_num}')\n",
    "    plt.plot(p_test[rnd_num] , label = 'Real Pressure')\n",
    "    plt.plot(naive_pred[rnd_num] , label = 'Predicted Pressure')\n",
    "    plt.legend()\n",
    "    plt.figure()\n",
    "plt.show()"
   ]
  },
  {
   "cell_type": "code",
   "execution_count": 14,
   "id": "6e00566b",
   "metadata": {
    "execution": {
     "iopub.execute_input": "2022-10-17T12:15:46.052583Z",
     "iopub.status.busy": "2022-10-17T12:15:46.051699Z",
     "iopub.status.idle": "2022-10-17T15:09:05.433144Z",
     "shell.execute_reply": "2022-10-17T15:09:05.433920Z",
     "shell.execute_reply.started": "2022-01-04T01:22:04.990429Z"
    },
    "papermill": {
     "duration": 10399.543005,
     "end_time": "2022-10-17T15:09:05.434127",
     "exception": false,
     "start_time": "2022-10-17T12:15:45.891122",
     "status": "completed"
    },
    "tags": []
   },
   "outputs": [
    {
     "name": "stderr",
     "output_type": "stream",
     "text": [
      "2022-10-17 12:15:48.456258: I tensorflow/compiler/mlir/mlir_graph_optimization_pass.cc:185] None of the MLIR Optimization Passes are enabled (registered 2)\n"
     ]
    },
    {
     "name": "stdout",
     "output_type": "stream",
     "text": [
      "Epoch 1/300\n"
     ]
    },
    {
     "name": "stderr",
     "output_type": "stream",
     "text": [
      "2022-10-17 12:15:55.698872: I tensorflow/stream_executor/cuda/cuda_dnn.cc:369] Loaded cuDNN version 8005\n"
     ]
    },
    {
     "name": "stdout",
     "output_type": "stream",
     "text": [
      "1651/1651 [==============================] - 44s 22ms/step - loss: 2.8785 - val_loss: 2.0529\n",
      "Epoch 2/300\n",
      "1651/1651 [==============================] - 34s 20ms/step - loss: 1.8722 - val_loss: 1.6600\n",
      "Epoch 3/300\n",
      "1651/1651 [==============================] - 34s 21ms/step - loss: 1.5559 - val_loss: 1.4275\n",
      "Epoch 4/300\n",
      "1651/1651 [==============================] - 34s 21ms/step - loss: 1.3970 - val_loss: 1.2843\n",
      "Epoch 5/300\n",
      "1651/1651 [==============================] - 34s 21ms/step - loss: 1.2830 - val_loss: 1.2637\n",
      "Epoch 6/300\n",
      "1651/1651 [==============================] - 34s 21ms/step - loss: 1.2004 - val_loss: 1.1814\n",
      "Epoch 7/300\n",
      "1651/1651 [==============================] - 34s 21ms/step - loss: 1.1412 - val_loss: 1.1096\n",
      "Epoch 8/300\n",
      "1651/1651 [==============================] - 35s 21ms/step - loss: 1.0856 - val_loss: 1.0628\n",
      "Epoch 9/300\n",
      "1651/1651 [==============================] - 35s 21ms/step - loss: 1.0368 - val_loss: 1.0074\n",
      "Epoch 10/300\n",
      "1651/1651 [==============================] - 35s 21ms/step - loss: 1.0081 - val_loss: 0.9960\n",
      "Epoch 11/300\n",
      "1651/1651 [==============================] - 35s 21ms/step - loss: 0.9658 - val_loss: 0.9881\n",
      "Epoch 12/300\n",
      "1651/1651 [==============================] - 35s 21ms/step - loss: 0.9441 - val_loss: 0.9180\n",
      "Epoch 13/300\n",
      "1651/1651 [==============================] - 35s 21ms/step - loss: 0.9177 - val_loss: 0.9010\n",
      "Epoch 14/300\n",
      "1651/1651 [==============================] - 35s 21ms/step - loss: 0.8826 - val_loss: 0.8986\n",
      "Epoch 15/300\n",
      "1651/1651 [==============================] - 35s 21ms/step - loss: 0.8707 - val_loss: 0.9302\n",
      "Epoch 16/300\n",
      "1651/1651 [==============================] - 35s 21ms/step - loss: 0.8522 - val_loss: 0.8701\n",
      "Epoch 17/300\n",
      "1651/1651 [==============================] - 35s 21ms/step - loss: 0.8403 - val_loss: 0.8830\n",
      "Epoch 18/300\n",
      "1651/1651 [==============================] - 35s 21ms/step - loss: 0.7966 - val_loss: 0.8507\n",
      "Epoch 19/300\n",
      "1651/1651 [==============================] - 35s 21ms/step - loss: 0.7874 - val_loss: 0.9384\n",
      "Epoch 20/300\n",
      "1651/1651 [==============================] - 35s 21ms/step - loss: 0.7910 - val_loss: 0.7856\n",
      "Epoch 21/300\n",
      "1651/1651 [==============================] - 35s 21ms/step - loss: 0.7645 - val_loss: 0.8066\n",
      "Epoch 22/300\n",
      "1651/1651 [==============================] - 35s 21ms/step - loss: 0.7475 - val_loss: 0.7974\n",
      "Epoch 23/300\n",
      "1651/1651 [==============================] - 35s 21ms/step - loss: 0.7397 - val_loss: 0.7520\n",
      "Epoch 24/300\n",
      "1651/1651 [==============================] - 35s 21ms/step - loss: 0.7270 - val_loss: 0.7839\n",
      "Epoch 25/300\n",
      "1651/1651 [==============================] - 35s 21ms/step - loss: 0.7093 - val_loss: 0.7579\n",
      "Epoch 26/300\n",
      "1651/1651 [==============================] - 35s 21ms/step - loss: 0.6998 - val_loss: 0.7902\n",
      "Epoch 27/300\n",
      "1651/1651 [==============================] - 35s 21ms/step - loss: 0.7165 - val_loss: 0.7316\n",
      "Epoch 28/300\n",
      "1651/1651 [==============================] - 35s 21ms/step - loss: 0.7026 - val_loss: 0.7740\n",
      "Epoch 29/300\n",
      "1651/1651 [==============================] - 35s 21ms/step - loss: 0.6928 - val_loss: 0.7782\n",
      "Epoch 30/300\n",
      "1651/1651 [==============================] - 35s 21ms/step - loss: 0.6746 - val_loss: 0.8034\n",
      "Epoch 31/300\n",
      "1651/1651 [==============================] - 35s 21ms/step - loss: 0.6492 - val_loss: 0.6869\n",
      "Epoch 32/300\n",
      "1651/1651 [==============================] - 35s 21ms/step - loss: 0.6422 - val_loss: 0.6896\n",
      "Epoch 33/300\n",
      "1651/1651 [==============================] - 35s 21ms/step - loss: 0.6314 - val_loss: 0.7828\n",
      "Epoch 34/300\n",
      "1651/1651 [==============================] - 35s 21ms/step - loss: 0.6391 - val_loss: 0.6813\n",
      "Epoch 35/300\n",
      "1651/1651 [==============================] - 35s 21ms/step - loss: 0.6197 - val_loss: 0.7137\n",
      "Epoch 36/300\n",
      "1651/1651 [==============================] - 35s 21ms/step - loss: 0.6155 - val_loss: 0.6884\n",
      "Epoch 37/300\n",
      "1651/1651 [==============================] - 35s 21ms/step - loss: 0.6137 - val_loss: 0.6813\n",
      "Epoch 38/300\n",
      "1651/1651 [==============================] - 35s 21ms/step - loss: 0.6113 - val_loss: 0.6651\n",
      "Epoch 39/300\n",
      "1651/1651 [==============================] - 35s 21ms/step - loss: 0.5835 - val_loss: 0.6612\n",
      "Epoch 40/300\n",
      "1651/1651 [==============================] - 35s 21ms/step - loss: 0.6044 - val_loss: 0.6840\n",
      "Epoch 41/300\n",
      "1651/1651 [==============================] - 35s 21ms/step - loss: 0.5800 - val_loss: 0.7344\n",
      "Epoch 42/300\n",
      "1651/1651 [==============================] - 35s 21ms/step - loss: 0.5921 - val_loss: 0.7120\n",
      "Epoch 43/300\n",
      "1651/1651 [==============================] - 35s 21ms/step - loss: 0.5747 - val_loss: 0.6507\n",
      "Epoch 44/300\n",
      "1651/1651 [==============================] - 35s 21ms/step - loss: 0.5691 - val_loss: 0.6824\n",
      "Epoch 45/300\n",
      "1651/1651 [==============================] - 35s 21ms/step - loss: 0.5902 - val_loss: 0.6592\n",
      "Epoch 46/300\n",
      "1651/1651 [==============================] - 35s 21ms/step - loss: 0.5558 - val_loss: 0.6709\n",
      "Epoch 47/300\n",
      "1651/1651 [==============================] - 35s 21ms/step - loss: 0.5487 - val_loss: 0.6636\n",
      "Epoch 48/300\n",
      "1651/1651 [==============================] - 35s 21ms/step - loss: 0.5424 - val_loss: 0.6750\n",
      "Epoch 49/300\n",
      "1651/1651 [==============================] - 36s 22ms/step - loss: 0.5514 - val_loss: 0.6307\n",
      "Epoch 50/300\n",
      "1651/1651 [==============================] - 35s 21ms/step - loss: 0.5411 - val_loss: 0.6361\n",
      "Epoch 51/300\n",
      "1651/1651 [==============================] - 35s 21ms/step - loss: 0.5364 - val_loss: 0.6215\n",
      "Epoch 52/300\n",
      "1651/1651 [==============================] - 35s 21ms/step - loss: 0.5533 - val_loss: 0.6530\n",
      "Epoch 53/300\n",
      "1651/1651 [==============================] - 35s 21ms/step - loss: 0.5292 - val_loss: 0.6381\n",
      "Epoch 54/300\n",
      "1651/1651 [==============================] - 35s 21ms/step - loss: 0.5278 - val_loss: 0.6227\n",
      "Epoch 55/300\n",
      "1651/1651 [==============================] - 35s 21ms/step - loss: 0.5015 - val_loss: 0.6162\n",
      "Epoch 56/300\n",
      "1651/1651 [==============================] - 36s 22ms/step - loss: 0.5147 - val_loss: 0.6176\n",
      "Epoch 57/300\n",
      "1651/1651 [==============================] - 35s 21ms/step - loss: 0.5161 - val_loss: 0.6739\n",
      "Epoch 58/300\n",
      "1651/1651 [==============================] - 35s 21ms/step - loss: 0.5400 - val_loss: 0.6488\n",
      "Epoch 59/300\n",
      "1651/1651 [==============================] - 35s 21ms/step - loss: 0.5039 - val_loss: 0.6104\n",
      "Epoch 60/300\n",
      "1651/1651 [==============================] - 35s 21ms/step - loss: 0.4920 - val_loss: 0.6590\n",
      "Epoch 61/300\n",
      "1651/1651 [==============================] - 35s 21ms/step - loss: 0.5221 - val_loss: 0.6293\n",
      "Epoch 62/300\n",
      "1651/1651 [==============================] - 35s 21ms/step - loss: 0.4992 - val_loss: 0.6354\n",
      "Epoch 63/300\n",
      "1651/1651 [==============================] - 35s 21ms/step - loss: 0.5207 - val_loss: 0.6173\n",
      "Epoch 64/300\n",
      "1651/1651 [==============================] - 35s 21ms/step - loss: 0.4788 - val_loss: 0.5937\n",
      "Epoch 65/300\n",
      "1651/1651 [==============================] - 35s 21ms/step - loss: 0.4753 - val_loss: 0.6216\n",
      "Epoch 66/300\n",
      "1651/1651 [==============================] - 35s 21ms/step - loss: 0.4687 - val_loss: 0.6285\n",
      "Epoch 67/300\n",
      "1651/1651 [==============================] - 36s 22ms/step - loss: 0.4705 - val_loss: 0.6067\n",
      "Epoch 68/300\n",
      "1651/1651 [==============================] - 35s 21ms/step - loss: 0.4942 - val_loss: 0.6059\n",
      "Epoch 69/300\n",
      "1651/1651 [==============================] - 35s 21ms/step - loss: 0.4880 - val_loss: 0.5890\n",
      "Epoch 70/300\n",
      "1651/1651 [==============================] - 34s 21ms/step - loss: 0.4723 - val_loss: 0.6155\n",
      "Epoch 71/300\n",
      "1651/1651 [==============================] - 36s 22ms/step - loss: 0.4791 - val_loss: 0.6151\n",
      "Epoch 72/300\n",
      "1651/1651 [==============================] - 35s 21ms/step - loss: 0.4527 - val_loss: 0.5964\n",
      "Epoch 73/300\n",
      "1651/1651 [==============================] - 35s 21ms/step - loss: 0.5047 - val_loss: 0.6192\n",
      "Epoch 74/300\n",
      "1651/1651 [==============================] - 35s 21ms/step - loss: 0.4948 - val_loss: 0.5917\n",
      "Epoch 75/300\n",
      "1651/1651 [==============================] - 35s 21ms/step - loss: 0.4618 - val_loss: 0.5804\n",
      "Epoch 76/300\n",
      "1651/1651 [==============================] - 34s 21ms/step - loss: 0.4382 - val_loss: 0.5763\n",
      "Epoch 77/300\n",
      "1651/1651 [==============================] - 35s 21ms/step - loss: 0.4590 - val_loss: 0.6282\n",
      "Epoch 78/300\n",
      "1651/1651 [==============================] - 35s 21ms/step - loss: 0.4774 - val_loss: 0.5837\n",
      "Epoch 79/300\n",
      "1651/1651 [==============================] - 36s 22ms/step - loss: 0.4536 - val_loss: 0.5944\n",
      "Epoch 80/300\n",
      "1651/1651 [==============================] - 34s 21ms/step - loss: 0.4547 - val_loss: 0.5912\n",
      "Epoch 81/300\n",
      "1651/1651 [==============================] - 35s 21ms/step - loss: 0.4672 - val_loss: 0.5775\n",
      "Epoch 82/300\n",
      "1651/1651 [==============================] - 35s 21ms/step - loss: 0.4527 - val_loss: 0.5921\n",
      "Epoch 83/300\n",
      "1651/1651 [==============================] - 36s 22ms/step - loss: 0.4519 - val_loss: 0.5872\n",
      "Epoch 84/300\n",
      "1651/1651 [==============================] - 34s 21ms/step - loss: 0.4460 - val_loss: 0.5903\n",
      "Epoch 85/300\n",
      "1651/1651 [==============================] - 34s 20ms/step - loss: 0.4248 - val_loss: 0.5741\n",
      "Epoch 86/300\n",
      "1651/1651 [==============================] - 34s 20ms/step - loss: 0.4443 - val_loss: 0.6425\n",
      "Epoch 87/300\n",
      "1651/1651 [==============================] - 35s 21ms/step - loss: 0.4548 - val_loss: 0.6145\n",
      "Epoch 88/300\n",
      "1651/1651 [==============================] - 35s 21ms/step - loss: 0.4346 - val_loss: 0.5562\n",
      "Epoch 89/300\n",
      "1651/1651 [==============================] - 34s 21ms/step - loss: 0.4302 - val_loss: 0.5962\n",
      "Epoch 90/300\n",
      "1651/1651 [==============================] - 35s 21ms/step - loss: 0.4328 - val_loss: 0.5815\n",
      "Epoch 91/300\n",
      "1651/1651 [==============================] - 36s 22ms/step - loss: 0.4270 - val_loss: 0.5906\n",
      "Epoch 92/300\n",
      "1651/1651 [==============================] - 35s 21ms/step - loss: 0.4222 - val_loss: 0.5616\n",
      "Epoch 93/300\n",
      "1651/1651 [==============================] - 34s 21ms/step - loss: 0.4122 - val_loss: 0.5600\n",
      "Epoch 94/300\n",
      "1651/1651 [==============================] - 34s 21ms/step - loss: 0.4146 - val_loss: 0.5588\n",
      "Epoch 95/300\n",
      "1651/1651 [==============================] - 34s 21ms/step - loss: 0.4243 - val_loss: 0.5903\n",
      "Epoch 96/300\n",
      "1651/1651 [==============================] - 34s 21ms/step - loss: 0.4327 - val_loss: 0.5750\n",
      "Epoch 97/300\n",
      "1651/1651 [==============================] - 34s 21ms/step - loss: 0.4157 - val_loss: 0.5562\n",
      "Epoch 98/300\n",
      "1651/1651 [==============================] - 34s 20ms/step - loss: 0.4179 - val_loss: 0.5520\n",
      "Epoch 99/300\n",
      "1651/1651 [==============================] - 34s 21ms/step - loss: 0.4191 - val_loss: 0.5697\n",
      "Epoch 100/300\n",
      "1651/1651 [==============================] - 35s 21ms/step - loss: 0.4077 - val_loss: 0.5585\n",
      "Epoch 101/300\n",
      "1651/1651 [==============================] - 34s 21ms/step - loss: 0.3972 - val_loss: 0.5655\n",
      "Epoch 102/300\n",
      "1651/1651 [==============================] - 34s 21ms/step - loss: 0.4102 - val_loss: 0.5572\n",
      "Epoch 103/300\n",
      "1651/1651 [==============================] - 34s 21ms/step - loss: 0.4147 - val_loss: 0.5843\n",
      "Epoch 104/300\n",
      "1651/1651 [==============================] - 36s 22ms/step - loss: 0.4357 - val_loss: 0.5920\n",
      "Epoch 105/300\n",
      "1651/1651 [==============================] - 34s 20ms/step - loss: 0.4225 - val_loss: 0.6018\n",
      "Epoch 106/300\n",
      "1651/1651 [==============================] - 34s 21ms/step - loss: 0.4149 - val_loss: 0.5458\n",
      "Epoch 107/300\n",
      "1651/1651 [==============================] - 34s 21ms/step - loss: 0.3990 - val_loss: 0.5537\n",
      "Epoch 108/300\n",
      "1651/1651 [==============================] - 35s 21ms/step - loss: 0.4121 - val_loss: 0.5733\n",
      "Epoch 109/300\n",
      "1651/1651 [==============================] - 34s 21ms/step - loss: 0.3957 - val_loss: 0.5524\n",
      "Epoch 110/300\n",
      "1651/1651 [==============================] - 34s 21ms/step - loss: 0.3963 - val_loss: 0.5611\n",
      "Epoch 111/300\n",
      "1651/1651 [==============================] - 34s 21ms/step - loss: 0.3919 - val_loss: 0.5395\n",
      "Epoch 112/300\n",
      "1651/1651 [==============================] - 34s 21ms/step - loss: 0.3990 - val_loss: 0.5628\n",
      "Epoch 113/300\n",
      "1651/1651 [==============================] - 35s 21ms/step - loss: 0.3931 - val_loss: 0.5567\n",
      "Epoch 114/300\n",
      "1651/1651 [==============================] - 34s 21ms/step - loss: 0.3913 - val_loss: 0.5538\n",
      "Epoch 115/300\n",
      "1651/1651 [==============================] - 35s 21ms/step - loss: 0.3949 - val_loss: 0.5766\n",
      "Epoch 116/300\n",
      "1651/1651 [==============================] - 35s 21ms/step - loss: 0.4158 - val_loss: 0.5963\n",
      "Epoch 117/300\n",
      "1651/1651 [==============================] - 37s 22ms/step - loss: 0.4171 - val_loss: 0.5819\n",
      "Epoch 118/300\n",
      "1651/1651 [==============================] - 34s 21ms/step - loss: 0.3970 - val_loss: 0.5361\n",
      "Epoch 119/300\n",
      "1651/1651 [==============================] - 34s 21ms/step - loss: 0.3813 - val_loss: 0.5497\n",
      "Epoch 120/300\n",
      "1651/1651 [==============================] - 34s 21ms/step - loss: 0.3812 - val_loss: 0.5569\n",
      "Epoch 121/300\n",
      "1651/1651 [==============================] - 35s 21ms/step - loss: 0.3751 - val_loss: 0.5554\n",
      "Epoch 122/300\n",
      "1651/1651 [==============================] - 34s 21ms/step - loss: 0.3796 - val_loss: 0.5428\n",
      "Epoch 123/300\n",
      "1651/1651 [==============================] - 34s 21ms/step - loss: 0.3789 - val_loss: 0.5401\n",
      "Epoch 124/300\n",
      "1651/1651 [==============================] - 34s 21ms/step - loss: 0.3781 - val_loss: 0.5775\n",
      "Epoch 125/300\n",
      "1651/1651 [==============================] - 34s 21ms/step - loss: 0.3868 - val_loss: 0.5710\n",
      "Epoch 126/300\n",
      "1651/1651 [==============================] - 34s 21ms/step - loss: 0.3904 - val_loss: 0.5872\n",
      "Epoch 127/300\n",
      "1651/1651 [==============================] - 34s 21ms/step - loss: 0.3987 - val_loss: 0.5648\n",
      "Epoch 128/300\n",
      "1651/1651 [==============================] - 34s 21ms/step - loss: 0.3708 - val_loss: 0.5595\n",
      "Epoch 129/300\n",
      "1651/1651 [==============================] - 36s 22ms/step - loss: 0.3790 - val_loss: 0.5333\n",
      "Epoch 130/300\n",
      "1651/1651 [==============================] - 34s 21ms/step - loss: 0.3796 - val_loss: 0.5406\n",
      "Epoch 131/300\n",
      "1651/1651 [==============================] - 34s 21ms/step - loss: 0.3652 - val_loss: 0.5463\n",
      "Epoch 132/300\n",
      "1651/1651 [==============================] - 34s 21ms/step - loss: 0.3728 - val_loss: 0.5545\n",
      "Epoch 133/300\n",
      "1651/1651 [==============================] - 34s 21ms/step - loss: 0.3820 - val_loss: 0.5685\n",
      "Epoch 134/300\n",
      "1651/1651 [==============================] - 34s 21ms/step - loss: 0.3701 - val_loss: 0.6053\n",
      "Epoch 135/300\n",
      "1651/1651 [==============================] - 34s 21ms/step - loss: 0.3792 - val_loss: 0.5518\n",
      "Epoch 136/300\n",
      "1651/1651 [==============================] - 34s 21ms/step - loss: 0.3796 - val_loss: 0.5467\n",
      "Epoch 137/300\n",
      "1651/1651 [==============================] - 35s 21ms/step - loss: 0.3675 - val_loss: 0.5358\n",
      "Epoch 138/300\n",
      "1651/1651 [==============================] - 34s 21ms/step - loss: 0.3563 - val_loss: 0.5288\n",
      "Epoch 139/300\n",
      "1651/1651 [==============================] - 34s 21ms/step - loss: 0.3641 - val_loss: 0.5388\n",
      "Epoch 140/300\n",
      "1651/1651 [==============================] - 34s 21ms/step - loss: 0.3648 - val_loss: 0.5540\n",
      "Epoch 141/300\n",
      "1651/1651 [==============================] - 34s 21ms/step - loss: 0.3673 - val_loss: 0.5923\n",
      "Epoch 142/300\n",
      "1651/1651 [==============================] - 34s 21ms/step - loss: 0.3861 - val_loss: 0.5933\n",
      "Epoch 143/300\n",
      "1651/1651 [==============================] - 34s 20ms/step - loss: 0.3703 - val_loss: 0.5346\n",
      "Epoch 144/300\n",
      "1651/1651 [==============================] - 34s 21ms/step - loss: 0.3439 - val_loss: 0.5218\n",
      "Epoch 145/300\n",
      "1651/1651 [==============================] - 35s 21ms/step - loss: 0.3592 - val_loss: 0.5674\n",
      "Epoch 146/300\n",
      "1651/1651 [==============================] - 34s 21ms/step - loss: 0.3801 - val_loss: 0.5606\n",
      "Epoch 147/300\n",
      "1651/1651 [==============================] - 34s 21ms/step - loss: 0.3684 - val_loss: 0.6279\n",
      "Epoch 148/300\n",
      "1651/1651 [==============================] - 34s 20ms/step - loss: 0.3763 - val_loss: 0.5523\n",
      "Epoch 149/300\n",
      "1651/1651 [==============================] - 34s 20ms/step - loss: 0.3496 - val_loss: 0.5595\n",
      "Epoch 150/300\n",
      "1651/1651 [==============================] - 34s 21ms/step - loss: 0.3702 - val_loss: 0.5677\n",
      "Epoch 151/300\n",
      "1651/1651 [==============================] - 34s 21ms/step - loss: 0.3527 - val_loss: 0.5460\n",
      "Epoch 152/300\n",
      "1651/1651 [==============================] - 34s 20ms/step - loss: 0.3600 - val_loss: 0.5399\n",
      "Epoch 153/300\n",
      "1651/1651 [==============================] - 35s 21ms/step - loss: 0.3611 - val_loss: 0.5632\n",
      "Epoch 154/300\n",
      "1651/1651 [==============================] - 35s 21ms/step - loss: 0.3847 - val_loss: 0.5870\n",
      "Epoch 155/300\n",
      "1651/1651 [==============================] - 34s 21ms/step - loss: 0.3672 - val_loss: 0.5589\n",
      "Epoch 156/300\n",
      "1651/1651 [==============================] - 34s 21ms/step - loss: 0.3676 - val_loss: 0.5636\n",
      "Epoch 157/300\n",
      "1651/1651 [==============================] - 34s 20ms/step - loss: 0.3721 - val_loss: 0.5617\n",
      "Epoch 158/300\n",
      "1651/1651 [==============================] - 34s 21ms/step - loss: 0.3435 - val_loss: 0.5376\n",
      "Epoch 159/300\n",
      "1651/1651 [==============================] - 34s 20ms/step - loss: 0.3586 - val_loss: 0.5394\n",
      "Epoch 160/300\n",
      "1651/1651 [==============================] - 34s 20ms/step - loss: 0.3470 - val_loss: 0.5573\n",
      "Epoch 161/300\n",
      "1651/1651 [==============================] - 35s 21ms/step - loss: 0.3566 - val_loss: 0.5324\n",
      "Epoch 162/300\n",
      "1651/1651 [==============================] - 35s 21ms/step - loss: 0.3451 - val_loss: 0.5401\n",
      "Epoch 163/300\n",
      "1651/1651 [==============================] - 34s 21ms/step - loss: 0.3493 - val_loss: 0.5288\n",
      "Epoch 164/300\n",
      "1651/1651 [==============================] - 34s 21ms/step - loss: 0.3562 - val_loss: 0.5554\n",
      "Epoch 165/300\n",
      "1651/1651 [==============================] - 34s 21ms/step - loss: 0.3507 - val_loss: 0.5424\n",
      "Epoch 166/300\n",
      "1651/1651 [==============================] - 34s 20ms/step - loss: 0.3471 - val_loss: 0.5601\n",
      "Epoch 167/300\n",
      "1651/1651 [==============================] - 34s 21ms/step - loss: 0.3722 - val_loss: 0.5460\n",
      "Epoch 168/300\n",
      "1651/1651 [==============================] - 34s 21ms/step - loss: 0.3470 - val_loss: 0.5393\n",
      "Epoch 169/300\n",
      "1651/1651 [==============================] - 35s 21ms/step - loss: 0.3367 - val_loss: 0.5287\n",
      "Epoch 170/300\n",
      "1651/1651 [==============================] - 36s 22ms/step - loss: 0.3554 - val_loss: 0.5442\n",
      "Epoch 171/300\n",
      "1651/1651 [==============================] - 34s 21ms/step - loss: 0.3525 - val_loss: 0.5405\n",
      "Epoch 172/300\n",
      "1651/1651 [==============================] - 34s 21ms/step - loss: 0.3452 - val_loss: 0.5441\n",
      "Epoch 173/300\n",
      "1651/1651 [==============================] - 34s 21ms/step - loss: 0.3504 - val_loss: 0.5618\n",
      "Epoch 174/300\n",
      "1651/1651 [==============================] - 34s 21ms/step - loss: 0.3714 - val_loss: 0.5832\n",
      "Epoch 175/300\n",
      "1651/1651 [==============================] - 34s 21ms/step - loss: 0.3680 - val_loss: 0.5381\n",
      "Epoch 176/300\n",
      "1651/1651 [==============================] - 34s 21ms/step - loss: 0.3490 - val_loss: 0.5193\n",
      "Epoch 177/300\n",
      "1651/1651 [==============================] - 34s 21ms/step - loss: 0.3433 - val_loss: 0.5457\n",
      "Epoch 178/300\n",
      "1651/1651 [==============================] - 36s 22ms/step - loss: 0.3441 - val_loss: 0.5263\n",
      "Epoch 179/300\n",
      "1651/1651 [==============================] - 35s 21ms/step - loss: 0.3502 - val_loss: 0.5716\n",
      "Epoch 180/300\n",
      "1651/1651 [==============================] - 34s 21ms/step - loss: 0.3576 - val_loss: 0.5377\n",
      "Epoch 181/300\n",
      "1651/1651 [==============================] - 34s 21ms/step - loss: 0.3394 - val_loss: 0.5210\n",
      "Epoch 182/300\n",
      "1651/1651 [==============================] - 34s 21ms/step - loss: 0.3586 - val_loss: 0.5362\n",
      "Epoch 183/300\n",
      "1651/1651 [==============================] - 34s 21ms/step - loss: 0.3480 - val_loss: 0.5448\n",
      "Epoch 184/300\n",
      "1651/1651 [==============================] - 34s 20ms/step - loss: 0.3597 - val_loss: 0.5460\n",
      "Epoch 185/300\n",
      "1651/1651 [==============================] - 34s 20ms/step - loss: 0.3361 - val_loss: 0.5252\n",
      "Epoch 186/300\n",
      "1651/1651 [==============================] - 35s 21ms/step - loss: 0.3491 - val_loss: 0.5426\n",
      "Epoch 187/300\n",
      "1651/1651 [==============================] - 35s 21ms/step - loss: 0.3378 - val_loss: 0.5437\n",
      "Epoch 188/300\n",
      "1651/1651 [==============================] - 34s 20ms/step - loss: 0.3631 - val_loss: 0.6363\n",
      "Epoch 189/300\n",
      "1651/1651 [==============================] - 34s 21ms/step - loss: 0.3525 - val_loss: 0.5278\n",
      "Epoch 190/300\n",
      "1651/1651 [==============================] - 34s 21ms/step - loss: 0.3505 - val_loss: 0.5478\n",
      "Epoch 191/300\n",
      "1651/1651 [==============================] - 34s 21ms/step - loss: 0.3422 - val_loss: 0.5246\n",
      "Epoch 192/300\n",
      "1651/1651 [==============================] - 34s 21ms/step - loss: 0.3496 - val_loss: 0.5467\n",
      "Epoch 193/300\n",
      "1651/1651 [==============================] - 34s 21ms/step - loss: 0.3341 - val_loss: 0.5316\n",
      "Epoch 194/300\n",
      "1651/1651 [==============================] - 35s 21ms/step - loss: 0.3522 - val_loss: 0.5381\n",
      "Epoch 195/300\n",
      "1651/1651 [==============================] - 35s 22ms/step - loss: 0.3468 - val_loss: 0.5370\n",
      "Epoch 196/300\n",
      "1651/1651 [==============================] - 34s 21ms/step - loss: 0.3382 - val_loss: 0.5290\n",
      "Epoch 197/300\n",
      "1651/1651 [==============================] - 34s 21ms/step - loss: 0.3354 - val_loss: 0.5385\n",
      "Epoch 198/300\n",
      "1651/1651 [==============================] - 34s 21ms/step - loss: 0.3486 - val_loss: 0.5270\n",
      "Epoch 199/300\n",
      "1651/1651 [==============================] - 34s 21ms/step - loss: 0.3439 - val_loss: 0.5500\n",
      "Epoch 200/300\n",
      "1651/1651 [==============================] - 34s 21ms/step - loss: 0.3429 - val_loss: 0.5361\n",
      "Epoch 201/300\n",
      "1651/1651 [==============================] - 34s 21ms/step - loss: 0.3339 - val_loss: 0.5454\n",
      "Epoch 202/300\n",
      "1651/1651 [==============================] - 34s 21ms/step - loss: 0.3397 - val_loss: 0.5399\n",
      "Epoch 203/300\n",
      "1651/1651 [==============================] - 36s 22ms/step - loss: 0.3252 - val_loss: 0.5244\n",
      "Epoch 204/300\n",
      "1651/1651 [==============================] - 36s 22ms/step - loss: 0.3362 - val_loss: 0.5231\n",
      "Epoch 205/300\n",
      "1651/1651 [==============================] - 34s 21ms/step - loss: 0.3521 - val_loss: 0.5510\n",
      "Epoch 206/300\n",
      "1651/1651 [==============================] - 34s 21ms/step - loss: 0.3549 - val_loss: 0.5358\n",
      "Epoch 207/300\n",
      "1651/1651 [==============================] - 34s 21ms/step - loss: 0.3328 - val_loss: 0.5275\n",
      "Epoch 208/300\n",
      "1651/1651 [==============================] - 34s 21ms/step - loss: 0.3261 - val_loss: 0.5335\n",
      "Epoch 209/300\n",
      "1651/1651 [==============================] - 34s 21ms/step - loss: 0.3151 - val_loss: 0.5414\n",
      "Epoch 210/300\n",
      "1651/1651 [==============================] - 34s 21ms/step - loss: 0.3367 - val_loss: 0.5483\n",
      "Epoch 211/300\n",
      "1651/1651 [==============================] - 35s 21ms/step - loss: 0.3277 - val_loss: 0.5261\n",
      "Epoch 212/300\n",
      "1651/1651 [==============================] - 36s 22ms/step - loss: 0.3289 - val_loss: 0.5761\n",
      "Epoch 213/300\n",
      "1651/1651 [==============================] - 34s 21ms/step - loss: 0.3412 - val_loss: 0.5462\n",
      "Epoch 214/300\n",
      "1651/1651 [==============================] - 34s 21ms/step - loss: 0.3236 - val_loss: 0.5382\n",
      "Epoch 215/300\n",
      "1651/1651 [==============================] - 34s 21ms/step - loss: 0.3257 - val_loss: 0.5188\n",
      "Epoch 216/300\n",
      "1651/1651 [==============================] - 34s 21ms/step - loss: 0.3294 - val_loss: 0.5330\n",
      "Epoch 217/300\n",
      "1651/1651 [==============================] - 34s 21ms/step - loss: 0.3263 - val_loss: 0.5398\n",
      "Epoch 218/300\n",
      "1651/1651 [==============================] - 34s 21ms/step - loss: 0.3263 - val_loss: 0.5289\n",
      "Epoch 219/300\n",
      "1651/1651 [==============================] - 34s 21ms/step - loss: 0.3239 - val_loss: 0.5281\n",
      "Epoch 220/300\n",
      "1651/1651 [==============================] - 36s 22ms/step - loss: 0.3201 - val_loss: 0.5203\n",
      "Epoch 221/300\n",
      "1651/1651 [==============================] - 36s 22ms/step - loss: 0.3453 - val_loss: 0.6502\n",
      "Epoch 222/300\n",
      "1651/1651 [==============================] - 34s 21ms/step - loss: 0.3387 - val_loss: 0.5256\n",
      "Epoch 223/300\n",
      "1651/1651 [==============================] - 34s 21ms/step - loss: 0.3148 - val_loss: 0.5240\n",
      "Epoch 224/300\n",
      "1651/1651 [==============================] - 34s 21ms/step - loss: 0.3440 - val_loss: 0.5498\n",
      "Epoch 225/300\n",
      "1651/1651 [==============================] - 34s 21ms/step - loss: 0.3404 - val_loss: 0.5279\n",
      "Epoch 226/300\n",
      "1651/1651 [==============================] - 34s 21ms/step - loss: 0.3360 - val_loss: 0.5338\n",
      "Epoch 227/300\n",
      "1651/1651 [==============================] - 34s 21ms/step - loss: 0.3130 - val_loss: 0.5229\n",
      "Epoch 228/300\n",
      "1651/1651 [==============================] - 35s 21ms/step - loss: 0.3276 - val_loss: 0.5558\n",
      "Epoch 229/300\n",
      "1651/1651 [==============================] - 36s 22ms/step - loss: 0.3239 - val_loss: 0.5343\n",
      "Epoch 230/300\n",
      "1651/1651 [==============================] - 35s 21ms/step - loss: 0.3166 - val_loss: 0.5477\n",
      "Epoch 231/300\n",
      "1651/1651 [==============================] - 34s 21ms/step - loss: 0.3160 - val_loss: 0.5362\n",
      "Epoch 232/300\n",
      "1651/1651 [==============================] - 34s 21ms/step - loss: 0.3497 - val_loss: 0.5599\n",
      "Epoch 233/300\n",
      "1651/1651 [==============================] - 34s 21ms/step - loss: 0.3389 - val_loss: 0.5331\n",
      "Epoch 234/300\n",
      "1651/1651 [==============================] - 34s 21ms/step - loss: 0.3292 - val_loss: 0.5419\n",
      "Epoch 235/300\n",
      "1651/1651 [==============================] - 34s 21ms/step - loss: 0.3434 - val_loss: 0.5382\n",
      "Epoch 236/300\n",
      "1651/1651 [==============================] - 34s 21ms/step - loss: 0.3184 - val_loss: 0.5248\n",
      "Epoch 237/300\n",
      "1651/1651 [==============================] - 36s 22ms/step - loss: 0.3234 - val_loss: 0.5322\n",
      "Epoch 238/300\n",
      "1651/1651 [==============================] - 36s 22ms/step - loss: 0.3210 - val_loss: 0.5207\n",
      "Epoch 239/300\n",
      "1651/1651 [==============================] - 34s 21ms/step - loss: 0.3359 - val_loss: 0.5313\n",
      "Epoch 240/300\n",
      "1651/1651 [==============================] - 34s 21ms/step - loss: 0.3308 - val_loss: 0.5217\n",
      "Epoch 241/300\n",
      "1651/1651 [==============================] - 34s 21ms/step - loss: 0.3236 - val_loss: 0.5299\n",
      "Epoch 242/300\n",
      "1651/1651 [==============================] - 34s 21ms/step - loss: 0.3206 - val_loss: 0.5296\n",
      "Epoch 243/300\n",
      "1651/1651 [==============================] - 34s 21ms/step - loss: 0.3161 - val_loss: 0.5977\n",
      "Epoch 244/300\n",
      "1651/1651 [==============================] - 34s 21ms/step - loss: 0.3275 - val_loss: 0.5333\n",
      "Epoch 245/300\n",
      "1651/1651 [==============================] - 34s 21ms/step - loss: 0.3111 - val_loss: 0.5279\n",
      "Epoch 246/300\n",
      "1651/1651 [==============================] - 34s 21ms/step - loss: 0.3226 - val_loss: 0.5423\n",
      "Epoch 247/300\n",
      "1651/1651 [==============================] - 34s 21ms/step - loss: 0.3316 - val_loss: 0.5344\n",
      "Epoch 248/300\n",
      "1651/1651 [==============================] - 34s 21ms/step - loss: 0.3252 - val_loss: 0.5512\n",
      "Epoch 249/300\n",
      "1651/1651 [==============================] - 34s 21ms/step - loss: 0.3513 - val_loss: 0.5983\n",
      "Epoch 250/300\n",
      "1651/1651 [==============================] - 34s 21ms/step - loss: 0.3519 - val_loss: 0.5249\n",
      "Epoch 251/300\n",
      "1651/1651 [==============================] - 34s 21ms/step - loss: 0.3257 - val_loss: 0.5282\n",
      "Epoch 252/300\n",
      "1651/1651 [==============================] - 34s 21ms/step - loss: 0.3086 - val_loss: 0.5409\n",
      "Epoch 253/300\n",
      "1651/1651 [==============================] - 36s 22ms/step - loss: 0.3292 - val_loss: 0.5297\n",
      "Epoch 254/300\n",
      "1651/1651 [==============================] - 36s 22ms/step - loss: 0.3205 - val_loss: 0.5166\n",
      "Epoch 255/300\n",
      "1651/1651 [==============================] - 34s 21ms/step - loss: 0.3109 - val_loss: 0.5329\n",
      "Epoch 256/300\n",
      "1651/1651 [==============================] - 34s 21ms/step - loss: 0.3420 - val_loss: 0.5219\n",
      "Epoch 257/300\n",
      "1651/1651 [==============================] - 34s 21ms/step - loss: 0.3328 - val_loss: 0.5174\n",
      "Epoch 258/300\n",
      "1651/1651 [==============================] - 34s 21ms/step - loss: 0.3207 - val_loss: 0.5387\n",
      "Epoch 259/300\n",
      "1651/1651 [==============================] - 34s 21ms/step - loss: 0.3141 - val_loss: 0.5100\n",
      "Epoch 260/300\n",
      "1651/1651 [==============================] - 34s 21ms/step - loss: 0.3173 - val_loss: 0.5228\n",
      "Epoch 261/300\n",
      "1651/1651 [==============================] - 34s 21ms/step - loss: 0.3100 - val_loss: 0.5184\n",
      "Epoch 262/300\n",
      "1651/1651 [==============================] - 35s 21ms/step - loss: 0.3172 - val_loss: 0.5210\n",
      "Epoch 263/300\n",
      "1651/1651 [==============================] - 34s 21ms/step - loss: 0.3071 - val_loss: 0.5198\n",
      "Epoch 264/300\n",
      "1651/1651 [==============================] - 34s 21ms/step - loss: 0.3255 - val_loss: 0.5265\n",
      "Epoch 265/300\n",
      "1651/1651 [==============================] - 34s 21ms/step - loss: 0.3083 - val_loss: 0.5282\n",
      "Epoch 266/300\n",
      "1651/1651 [==============================] - 34s 21ms/step - loss: 0.3152 - val_loss: 0.5474\n",
      "Epoch 267/300\n",
      "1651/1651 [==============================] - 34s 21ms/step - loss: 0.3321 - val_loss: 0.5295\n",
      "Epoch 268/300\n",
      "1651/1651 [==============================] - 34s 21ms/step - loss: 0.3175 - val_loss: 0.5238\n",
      "Epoch 269/300\n",
      "1651/1651 [==============================] - 36s 22ms/step - loss: 0.3236 - val_loss: 0.5328\n",
      "Epoch 270/300\n",
      "1651/1651 [==============================] - 36s 22ms/step - loss: 0.3340 - val_loss: 0.5633\n",
      "Epoch 271/300\n",
      "1651/1651 [==============================] - 34s 21ms/step - loss: 0.3231 - val_loss: 0.5285\n",
      "Epoch 272/300\n",
      "1651/1651 [==============================] - 34s 21ms/step - loss: 0.3173 - val_loss: 0.5321\n",
      "Epoch 273/300\n",
      "1651/1651 [==============================] - 34s 21ms/step - loss: 0.3227 - val_loss: 0.5149\n",
      "Epoch 274/300\n",
      "1651/1651 [==============================] - 34s 21ms/step - loss: 0.3145 - val_loss: 0.5328\n",
      "Epoch 275/300\n",
      "1651/1651 [==============================] - 34s 21ms/step - loss: 0.3138 - val_loss: 0.5230\n",
      "Epoch 276/300\n",
      "1651/1651 [==============================] - 34s 21ms/step - loss: 0.3151 - val_loss: 0.5633\n",
      "Epoch 277/300\n",
      "1651/1651 [==============================] - 34s 21ms/step - loss: 0.3271 - val_loss: 0.5581\n",
      "Epoch 278/300\n",
      "1651/1651 [==============================] - 34s 21ms/step - loss: 0.3158 - val_loss: 0.5404\n",
      "Epoch 279/300\n",
      "1651/1651 [==============================] - 34s 21ms/step - loss: 0.3276 - val_loss: 0.5426\n",
      "Epoch 280/300\n",
      "1651/1651 [==============================] - 34s 21ms/step - loss: 0.3150 - val_loss: 0.5514\n",
      "Epoch 281/300\n",
      "1651/1651 [==============================] - 34s 21ms/step - loss: 0.3444 - val_loss: 0.5618\n",
      "Epoch 282/300\n",
      "1651/1651 [==============================] - 34s 21ms/step - loss: 0.3337 - val_loss: 0.5405\n",
      "Epoch 283/300\n",
      "1651/1651 [==============================] - 34s 21ms/step - loss: 0.3084 - val_loss: 0.5160\n",
      "Epoch 284/300\n",
      "1651/1651 [==============================] - 34s 21ms/step - loss: 0.3107 - val_loss: 0.5315\n",
      "Epoch 285/300\n",
      "1651/1651 [==============================] - 36s 22ms/step - loss: 0.3245 - val_loss: 0.5410\n",
      "Epoch 286/300\n",
      "1651/1651 [==============================] - 37s 23ms/step - loss: 0.3379 - val_loss: 0.5163\n",
      "Epoch 287/300\n",
      "1651/1651 [==============================] - 34s 21ms/step - loss: 0.3214 - val_loss: 0.5473\n",
      "Epoch 288/300\n",
      "1651/1651 [==============================] - 34s 21ms/step - loss: 0.3247 - val_loss: 0.5353\n",
      "Epoch 289/300\n",
      "1651/1651 [==============================] - 34s 21ms/step - loss: 0.3263 - val_loss: 0.5444\n",
      "Epoch 290/300\n",
      "1651/1651 [==============================] - 34s 21ms/step - loss: 0.3182 - val_loss: 0.5332\n",
      "Epoch 291/300\n",
      "1651/1651 [==============================] - 34s 21ms/step - loss: 0.3113 - val_loss: 0.5252\n",
      "Epoch 292/300\n",
      "1651/1651 [==============================] - 34s 21ms/step - loss: 0.3218 - val_loss: 0.5274\n",
      "Epoch 293/300\n",
      "1651/1651 [==============================] - 34s 21ms/step - loss: 0.3129 - val_loss: 0.5324\n",
      "Epoch 294/300\n",
      "1651/1651 [==============================] - 34s 21ms/step - loss: 0.3196 - val_loss: 0.5318\n",
      "Epoch 295/300\n",
      "1651/1651 [==============================] - 34s 21ms/step - loss: 0.3117 - val_loss: 0.5243\n",
      "Epoch 296/300\n",
      "1651/1651 [==============================] - 34s 21ms/step - loss: 0.3262 - val_loss: 0.5444\n",
      "Epoch 297/300\n",
      "1651/1651 [==============================] - 34s 21ms/step - loss: 0.3336 - val_loss: 0.5274\n",
      "Epoch 298/300\n",
      "1651/1651 [==============================] - 34s 21ms/step - loss: 0.3085 - val_loss: 0.5116\n",
      "Epoch 299/300\n",
      "1651/1651 [==============================] - 34s 21ms/step - loss: 0.3295 - val_loss: 0.5354\n",
      "Epoch 300/300\n",
      "1651/1651 [==============================] - 34s 21ms/step - loss: 0.3195 - val_loss: 0.5500\n"
     ]
    }
   ],
   "source": [
    "model = lstm_wide_and_deep()\n",
    "model.compile(loss = 'mae' , optimizer='adam')\n",
    "model_checkpoint_callback = tf.keras.callbacks.ModelCheckpoint(\n",
    "    filepath='./ex.h5',\n",
    "    monitor='val_loss',\n",
    "    mode='min',\n",
    "    save_best_only=True)\n",
    "\n",
    "hist = model.fit([r_train , c_train , u_train],p_train,\n",
    "                 validation_data =([r_valid , c_valid , u_valid],p_valid),\n",
    "                 callbacks=[model_checkpoint_callback], epochs=300)"
   ]
  },
  {
   "cell_type": "code",
   "execution_count": 15,
   "id": "a4318e87",
   "metadata": {
    "execution": {
     "iopub.execute_input": "2022-10-17T15:10:28.832287Z",
     "iopub.status.busy": "2022-10-17T15:10:28.831490Z",
     "iopub.status.idle": "2022-10-17T15:10:29.043878Z",
     "shell.execute_reply": "2022-10-17T15:10:29.044561Z",
     "shell.execute_reply.started": "2022-01-04T04:12:01.820787Z"
    },
    "papermill": {
     "duration": 41.873692,
     "end_time": "2022-10-17T15:10:29.044816",
     "exception": false,
     "start_time": "2022-10-17T15:09:47.171124",
     "status": "completed"
    },
    "tags": []
   },
   "outputs": [
    {
     "data": {
      "image/png": "[encoded data removed]",
      "text/plain": [
       "<Figure size 432x288 with 1 Axes>"
      ]
     },
     "metadata": {
      "needs_background": "light"
     },
     "output_type": "display_data"
    }
   ],
   "source": [
    "plt.title('loss')\n",
    "plt.plot(range(len(hist.history['loss'])) , hist.history['loss'] , label = 'loss')\n",
    "plt.plot(range(len(hist.history['loss'])) , hist.history['val_loss'] , label = 'val_loss')\n",
    "plt.legend()\n",
    "plt.show()"
   ]
  },
  {
   "cell_type": "code",
   "execution_count": 16,
   "id": "02b85e56",
   "metadata": {
    "execution": {
     "iopub.execute_input": "2022-10-17T15:11:52.683619Z",
     "iopub.status.busy": "2022-10-17T15:11:52.682543Z",
     "iopub.status.idle": "2022-10-17T15:11:54.605166Z",
     "shell.execute_reply": "2022-10-17T15:11:54.605581Z",
     "shell.execute_reply.started": "2022-01-04T04:14:09.638574Z"
    },
    "papermill": {
     "duration": 43.828571,
     "end_time": "2022-10-17T15:11:54.605740",
     "exception": false,
     "start_time": "2022-10-17T15:11:10.777169",
     "status": "completed"
    },
    "tags": []
   },
   "outputs": [
    {
     "name": "stdout",
     "output_type": "stream",
     "text": [
      "236/236 [==============================] - 2s 8ms/step - loss: 0.5500\n"
     ]
    },
    {
     "data": {
      "text/plain": [
       "0.5500240921974182"
      ]
     },
     "execution_count": 16,
     "metadata": {},
     "output_type": "execute_result"
    }
   ],
   "source": [
    "model.evaluate([r_valid , c_valid , u_valid] , p_valid)"
   ]
  },
  {
   "cell_type": "code",
   "execution_count": 17,
   "id": "c8d63c79",
   "metadata": {
    "execution": {
     "iopub.execute_input": "2022-10-17T15:13:18.715996Z",
     "iopub.status.busy": "2022-10-17T15:13:18.715088Z",
     "iopub.status.idle": "2022-10-17T15:13:22.492052Z",
     "shell.execute_reply": "2022-10-17T15:13:22.491594Z",
     "shell.execute_reply.started": "2022-01-04T04:16:31.80451Z"
    },
    "papermill": {
     "duration": 45.857369,
     "end_time": "2022-10-17T15:13:22.492205",
     "exception": false,
     "start_time": "2022-10-17T15:12:36.634836",
     "status": "completed"
    },
    "tags": []
   },
   "outputs": [
    {
     "name": "stdout",
     "output_type": "stream",
     "text": [
      "472/472 [==============================] - 4s 8ms/step - loss: 0.5405\n"
     ]
    }
   ],
   "source": [
    "predictions = model.evaluate([r_test, c_test , u_test] , p_test)"
   ]
  },
  {
   "cell_type": "code",
   "execution_count": 18,
   "id": "86341090",
   "metadata": {
    "execution": {
     "iopub.execute_input": "2022-10-17T15:14:46.264501Z",
     "iopub.status.busy": "2022-10-17T15:14:46.263516Z",
     "iopub.status.idle": "2022-10-17T15:14:52.960394Z",
     "shell.execute_reply": "2022-10-17T15:14:52.959542Z",
     "shell.execute_reply.started": "2022-01-04T04:17:44.015638Z"
    },
    "papermill": {
     "duration": 48.406578,
     "end_time": "2022-10-17T15:14:52.960558",
     "exception": false,
     "start_time": "2022-10-17T15:14:04.553980",
     "status": "completed"
    },
    "tags": []
   },
   "outputs": [],
   "source": [
    "predictions = model.predict([r_test, c_test , u_test])"
   ]
  },
  {
   "cell_type": "code",
   "execution_count": 19,
   "id": "953a4214",
   "metadata": {
    "execution": {
     "iopub.execute_input": "2022-10-17T15:16:16.772772Z",
     "iopub.status.busy": "2022-10-17T15:16:16.771104Z",
     "iopub.status.idle": "2022-10-17T15:16:16.773442Z",
     "shell.execute_reply": "2022-10-17T15:16:16.773963Z",
     "shell.execute_reply.started": "2022-01-04T04:19:01.630628Z"
    },
    "papermill": {
     "duration": 42.078757,
     "end_time": "2022-10-17T15:16:16.774116",
     "exception": false,
     "start_time": "2022-10-17T15:15:34.695359",
     "status": "completed"
    },
    "tags": []
   },
   "outputs": [],
   "source": [
    "final_p = np.expand_dims(predictions , axis = -1)"
   ]
  },
  {
   "cell_type": "code",
   "execution_count": 20,
   "id": "1d6cfe8c",
   "metadata": {
    "execution": {
     "iopub.execute_input": "2022-10-17T15:17:40.655556Z",
     "iopub.status.busy": "2022-10-17T15:17:40.654850Z",
     "iopub.status.idle": "2022-10-17T15:17:40.657605Z",
     "shell.execute_reply": "2022-10-17T15:17:40.658008Z",
     "shell.execute_reply.started": "2022-01-04T04:19:13.977566Z"
    },
    "papermill": {
     "duration": 41.702427,
     "end_time": "2022-10-17T15:17:40.658149",
     "exception": false,
     "start_time": "2022-10-17T15:16:58.955722",
     "status": "completed"
    },
    "tags": []
   },
   "outputs": [
    {
     "data": {
      "text/plain": [
       "(15090, 32, 1)"
      ]
     },
     "execution_count": 20,
     "metadata": {},
     "output_type": "execute_result"
    }
   ],
   "source": [
    "np.shape(final_p)"
   ]
  },
  {
   "cell_type": "code",
   "execution_count": 21,
   "id": "155c7e7f",
   "metadata": {
    "execution": {
     "iopub.execute_input": "2022-10-17T15:19:04.734745Z",
     "iopub.status.busy": "2022-10-17T15:19:04.733894Z",
     "iopub.status.idle": "2022-10-17T15:19:04.739807Z",
     "shell.execute_reply": "2022-10-17T15:19:04.740354Z",
     "shell.execute_reply.started": "2022-01-04T04:19:21.464014Z"
    },
    "papermill": {
     "duration": 42.206392,
     "end_time": "2022-10-17T15:19:04.740554",
     "exception": false,
     "start_time": "2022-10-17T15:18:22.534162",
     "status": "completed"
    },
    "tags": []
   },
   "outputs": [
    {
     "data": {
      "text/plain": [
       "0.5405045"
      ]
     },
     "execution_count": 21,
     "metadata": {},
     "output_type": "execute_result"
    }
   ],
   "source": [
    "np.mean(keras.losses.mean_absolute_error(final_p , p_test))"
   ]
  },
  {
   "cell_type": "code",
   "execution_count": 22,
   "id": "ef7b3d9f",
   "metadata": {
    "execution": {
     "iopub.execute_input": "2022-10-17T15:20:28.253069Z",
     "iopub.status.busy": "2022-10-17T15:20:28.252261Z",
     "iopub.status.idle": "2022-10-17T15:20:28.654815Z",
     "shell.execute_reply": "2022-10-17T15:20:28.655256Z",
     "shell.execute_reply.started": "2022-01-04T04:26:45.657867Z"
    },
    "papermill": {
     "duration": 42.293503,
     "end_time": "2022-10-17T15:20:28.655413",
     "exception": false,
     "start_time": "2022-10-17T15:19:46.361910",
     "status": "completed"
    },
    "tags": []
   },
   "outputs": [
    {
     "name": "stdout",
     "output_type": "stream",
     "text": [
      "Naive loss =  11.052890419960022\n",
      "Predicted loss =  0.3043685\n"
     ]
    },
    {
     "data": {
      "image/png": "[encoded data removed]",
      "text/plain": [
       "<Figure size 432x288 with 1 Axes>"
      ]
     },
     "metadata": {
      "needs_background": "light"
     },
     "output_type": "display_data"
    },
    {
     "data": {
      "image/png": "[encoded data removed]",
      "text/plain": [
       "<Figure size 432x288 with 1 Axes>"
      ]
     },
     "metadata": {
      "needs_background": "light"
     },
     "output_type": "display_data"
    },
    {
     "data": {
      "text/plain": [
       "<Figure size 432x288 with 0 Axes>"
      ]
     },
     "metadata": {},
     "output_type": "display_data"
    }
   ],
   "source": [
    "for i in range(1):\n",
    "    rnd_num = np.random.randint(n_test)\n",
    "    print('Naive loss = ' , np.mean(keras.losses.mean_absolute_error(p_test[rnd_num] , naive_pred[rnd_num])))\n",
    "    plt.title(f'breath sample number {rnd_num}')\n",
    "    plt.plot(p_test[rnd_num] , label = 'Real Pressure')\n",
    "    plt.plot(naive_pred[rnd_num] , label = 'Naive Pressure')\n",
    "    plt.legend()\n",
    "    plt.figure()\n",
    "    print('Predicted loss = ' , np.mean(keras.losses.mean_absolute_error(p_test[rnd_num] , final_p[rnd_num])))\n",
    "    plt.plot(p_test[rnd_num] , label = 'Real Pressure')\n",
    "    plt.plot(final_p[rnd_num] , label = 'Naive Pressure')\n",
    "    plt.legend()\n",
    "    plt.figure()\n",
    "plt.show()"
   ]
  },
  {
   "cell_type": "code",
   "execution_count": null,
   "id": "490a21f8",
   "metadata": {
    "papermill": {
     "duration": 42.271789,
     "end_time": "2022-10-17T15:21:52.921634",
     "exception": false,
     "start_time": "2022-10-17T15:21:10.649845",
     "status": "completed"
    },
    "tags": []
   },
   "outputs": [],
   "source": []
  }
 ],
 "metadata": {
  "kernelspec": {
   "display_name": "Python 3",
   "language": "python",
   "name": "python3"
  },
  "language_info": {
   "codemirror_mode": {
    "name": "ipython",
    "version": 3
   },
   "file_extension": ".py",
   "mimetype": "text/x-python",
   "name": "python",
   "nbconvert_exporter": "python",
   "pygments_lexer": "ipython3",
   "version": "3.7.12"
  },
  "papermill": {
   "default_parameters": {},
   "duration": 11268.339707,
   "end_time": "2022-10-17T15:22:37.813664",
   "environment_variables": {},
   "exception": null,
   "input_path": "__notebook__.ipynb",
   "output_path": "__notebook__.ipynb",
   "parameters": {},
   "start_time": "2022-10-17T12:14:49.473957",
   "version": "2.3.3"
  }
 },
 "nbformat": 4,
 "nbformat_minor": 5
}
